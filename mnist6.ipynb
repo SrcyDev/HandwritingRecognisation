{
  "nbformat": 4,
  "nbformat_minor": 0,
  "metadata": {
    "colab": {
      "provenance": [],
      "authorship_tag": "ABX9TyPT+AvNT0mYdufRnI9XRltH"
    },
    "kernelspec": {
      "name": "python3",
      "display_name": "Python 3"
    },
    "language_info": {
      "name": "python"
    }
  },
  "cells": [
    {
      "cell_type": "code",
      "execution_count": 3,
      "metadata": {
        "id": "GrHSSJqe3QqI"
      },
      "outputs": [],
      "source": [
        "# Importing the libraries\n",
        "import numpy as np\n",
        "import torch\n",
        "import torch.nn as nn\n",
        "import torch.nn.functional as F\n",
        "from torch.utils.data import DataLoader\n",
        "from torchvision import datasets, transforms\n",
        "from sklearn.metrics import accuracy_score, confusion_matrix\n",
        "from torch.optim.lr_scheduler import StepLR"
      ]
    },
    {
      "cell_type": "code",
      "source": [
        "print(torch.torch_version)"
      ],
      "metadata": {
        "id": "oY7rLt8OGmbO"
      },
      "execution_count": null,
      "outputs": []
    },
    {
      "cell_type": "code",
      "source": [
        "# Defining the device\n",
        "device = torch.device(\"cuda:0\" if torch.cuda.is_available() else \"cpu\")"
      ],
      "metadata": {
        "id": "8yHsSEPuEZGw"
      },
      "execution_count": 4,
      "outputs": []
    },
    {
      "cell_type": "code",
      "source": [
        "# Defining the transforms\n",
        "transform = transforms.Compose([transforms.RandomRotation(30),\n",
        "                                transforms.RandomHorizontalFlip(),\n",
        "                                transforms.RandomAffine(0, shear=10, scale=(0.8,1.2)),\n",
        "                                transforms.ToTensor(),\n",
        "                                transforms.Normalize((0.1307,), (0.3081,))])"
      ],
      "metadata": {
        "id": "VmYa6cJ7EfiA"
      },
      "execution_count": 5,
      "outputs": []
    },
    {
      "cell_type": "code",
      "source": [
        "# Loading the dataset\n",
        "train_data = datasets.MNIST(root='data', train=True, download=True, transform=transform)\n",
        "test_data = datasets.MNIST(root='data', train=False, download=True, transform=transform)"
      ],
      "metadata": {
        "id": "TxOS2AuAElQO"
      },
      "execution_count": 6,
      "outputs": []
    },
    {
      "cell_type": "code",
      "source": [
        "# Creating the dataloaders\n",
        "train_loader = DataLoader(train_data, batch_size=5000, shuffle=True)\n",
        "test_loader = DataLoader(test_data, batch_size=500, shuffle=True)"
      ],
      "metadata": {
        "id": "LEmxiPrcEqQ7"
      },
      "execution_count": 7,
      "outputs": []
    },
    {
      "cell_type": "code",
      "source": [
        "# Defining the model\n",
        "class Classifier(nn.Module):\n",
        "    def __init__(self):\n",
        "        super().__init__()\n",
        "        self.conv1 = nn.Conv2d(1, 32, 3, padding=1)\n",
        "        self.batchnorm1 = nn.BatchNorm2d(32)\n",
        "        self.conv2 = nn.Conv2d(32, 64, 3, padding=1)\n",
        "        self.batchnorm2 = nn.BatchNorm2d(64)\n",
        "        self.pool = nn.MaxPool2d(2, 2)\n",
        "        self.dropout1 = nn.Dropout2d(0.25)\n",
        "        self.dropout2 = nn.Dropout2d(0.5)\n",
        "        self.fc1 = nn.Linear(64 * 7 * 7, 128)\n",
        "        self.fc2 = nn.Linear(128, 10)\n",
        "\n",
        "    def forward(self, x):\n",
        "        x = F.relu(self.batchnorm1(self.conv1(x)))\n",
        "        x = self.pool(x)\n",
        "        x = self.dropout1(x)\n",
        "        x = F.relu(self.batchnorm2(self.conv2(x)))\n",
        "        x = self.pool(x)\n",
        "        x = self.dropout2(x)\n",
        "        x = x.view(-1, 64 * 7 * 7)\n",
        "        x = F.relu(self.fc1(x))\n",
        "        x = self.fc2(x)\n",
        "        return x"
      ],
      "metadata": {
        "id": "AekoIpvXEwXY"
      },
      "execution_count": 8,
      "outputs": []
    },
    {
      "cell_type": "code",
      "source": [
        "# Defining the model\n",
        "model = Classifier()"
      ],
      "metadata": {
        "id": "yAFBQSohE186"
      },
      "execution_count": 9,
      "outputs": []
    },
    {
      "cell_type": "code",
      "source": [
        "# Defining the loss function\n",
        "criterion = nn.CrossEntropyLoss()"
      ],
      "metadata": {
        "id": "eZVxaYwDE6fa"
      },
      "execution_count": 10,
      "outputs": []
    },
    {
      "cell_type": "code",
      "source": [
        "# Defining the optimizer with L2 Regularization\n",
        "optimizer = torch.optim.Adam(model.parameters(), lr=0.001, weight_decay=0.001)\n",
        "scheduler = StepLR(optimizer, step_size=5, gamma=0.1)"
      ],
      "metadata": {
        "id": "flVkVNEpFThD"
      },
      "execution_count": 11,
      "outputs": []
    },
    {
      "cell_type": "code",
      "source": [
        "# Defining the number of epochs\n",
        "epochs = 20"
      ],
      "metadata": {
        "id": "MjPa95GYFbV3"
      },
      "execution_count": 12,
      "outputs": []
    },
    {
      "cell_type": "code",
      "source": [
        "# Training the model\n",
        "for epoch in range(epochs):\n",
        "    train_loss = 0.0\n",
        "    for images, labels in train_loader:\n",
        "        images = images.to(device)\n",
        "        labels = labels.to(device)\n",
        "        optimizer.zero_grad()\n",
        "        outputs = model(images)\n",
        "        loss = criterion(outputs, labels)\n",
        "        loss.backward()\n",
        "        optimizer.step()\n",
        "        train_loss += loss.item()\n",
        "    else:\n",
        "        scheduler.step()\n",
        "        print(f\"Epoch {epoch + 1}, Training loss: {train_loss/len(train_loader)}\")"
      ],
      "metadata": {
        "colab": {
          "base_uri": "https://localhost:8080/"
        },
        "id": "pE9_BG98Fn8v",
        "outputId": "660287f6-9701-49e5-9ce3-b122868d9c1c"
      },
      "execution_count": null,
      "outputs": [
        {
          "output_type": "stream",
          "name": "stdout",
          "text": [
            "Epoch 1, Training loss: 1.7798164983590443\n",
            "Epoch 2, Training loss: 1.0188611249128978\n",
            "Epoch 3, Training loss: 0.7886695166428884\n",
            "Epoch 4, Training loss: 0.6727325022220612\n",
            "Epoch 5, Training loss: 0.5864525238672892\n",
            "Epoch 6, Training loss: 0.543602724870046\n"
          ]
        }
      ]
    },
    {
      "cell_type": "code",
      "source": [
        "# Testing the model\n",
        "model.eval()\n",
        "y_true = []\n",
        "y_pred = []\n",
        "\n",
        "for images, labels in test_loader:\n",
        "    images = images.to(device)\n",
        "    labels = labels.to(device)\n",
        "    outputs = model(images)\n",
        "    _, predicted = torch.max(outputs, 1)\n",
        "    y_true.append(labels.cpu().numpy())\n",
        "    y_pred.append(predicted.cpu().numpy())\n",
        "\n",
        "    y_true = np.concatenate(y_true)\n",
        "    y_pred = np.concatenate(y_pred)"
      ],
      "metadata": {
        "id": "4JADi50vF_3O"
      },
      "execution_count": null,
      "outputs": []
    },
    {
      "cell_type": "code",
      "source": [
        "# Printing the test accuracy\n",
        "test_acc = accuracy_score(y_true, y_pred)\n",
        "print(f\"Test accuracy: {test_acc*100:.2f}%\")"
      ],
      "metadata": {
        "id": "nQkzXlDdGHbq"
      },
      "execution_count": null,
      "outputs": []
    },
    {
      "cell_type": "code",
      "source": [
        "# Confusion matrix\n",
        "cm = confusion_matrix(y_true, y_pred)\n",
        "print(\"Confusion matrix:\")\n",
        "print(cm)"
      ],
      "metadata": {
        "id": "hMgsCK-9GPUJ"
      },
      "execution_count": null,
      "outputs": []
    },
    {
      "cell_type": "code",
      "source": [
        "# Print the per-class accuracy\n",
        "class_correct = cm.diagonal()\n",
        "class_total = cm.sum(axis=1)\n",
        "\n",
        "for i in range(10):\n",
        "    if class_total[i] > 0:\n",
        "        print(f\"Accuracy of {i}: {100*class_correct[i]/class_total[i]:.2f}%\")\n",
        "    else:\n",
        "        print(f\"Accuracy of {i}: N/A\")"
      ],
      "metadata": {
        "id": "1KF4Uz77GSfD"
      },
      "execution_count": null,
      "outputs": []
    }
  ]
}